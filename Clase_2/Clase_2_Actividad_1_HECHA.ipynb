{
  "nbformat": 4,
  "nbformat_minor": 0,
  "metadata": {
    "colab": {
      "provenance": []
    },
    "kernelspec": {
      "name": "python3",
      "display_name": "Python 3"
    },
    "language_info": {
      "name": "python"
    }
  },
  "cells": [
    {
      "cell_type": "markdown",
      "source": [
        "# Ejercicio 1. Lambda"
      ],
      "metadata": {
        "id": "KBEiKOiHFtcy"
      }
    },
    {
      "cell_type": "markdown",
      "source": [
        "Declara una función lambda llamada mayor que reciba dos números y devuelva el mayor de los dos.\n",
        "<BR>\n",
        "Prueba con los pares: (7, 3), (10, 15).\n",
        "<BR>\n",
        "Qué sucede si son iguales (20, 20)?"
      ],
      "metadata": {
        "id": "KkZLAEDmF-dY"
      }
    },
    {
      "cell_type": "code",
      "execution_count": 6,
      "metadata": {
        "id": "gRD0-JE3EXZ4",
        "colab": {
          "base_uri": "https://localhost:8080/"
        },
        "outputId": "5285a3cc-b34b-4b62-8b8f-6a861fa9c9b5"
      },
      "outputs": [
        {
          "output_type": "stream",
          "name": "stdout",
          "text": [
            "iguales\n"
          ]
        }
      ],
      "source": [
        "mayor = lambda n1,n2 : n1 if n1 > n2 else (n2 if n2 > n1 else \"iguales\")\n",
        "\n",
        "print(mayor(7,7))"
      ]
    },
    {
      "cell_type": "markdown",
      "source": [
        "# Ejercicio 2. Lambda"
      ],
      "metadata": {
        "id": "jOQzCnNmGD4a"
      }
    },
    {
      "cell_type": "markdown",
      "source": [
        "Declara una función lambda llamada cuadrado que reciba un número y devuelva ese número al cuadrado.\n",
        "Prueba tu función con los valores 2, 5 y 10.\n",
        "<BR>\n",
        "*Hint* usar pow de math"
      ],
      "metadata": {
        "id": "CzdL_z0GHeva"
      }
    },
    {
      "cell_type": "code",
      "source": [
        "import math;\n",
        "\n",
        "cuadrado = lambda numero : math.pow(numero, 2)\n",
        "\n",
        "print(cuadrado(5))"
      ],
      "metadata": {
        "id": "kuc5kIGtHt2n",
        "colab": {
          "base_uri": "https://localhost:8080/"
        },
        "outputId": "79fd35f3-dcf8-43be-9293-a07535cacb67"
      },
      "execution_count": 7,
      "outputs": [
        {
          "output_type": "stream",
          "name": "stdout",
          "text": [
            "25.0\n"
          ]
        }
      ]
    },
    {
      "cell_type": "markdown",
      "source": [
        "# Ejercicio 3. List Comprehension"
      ],
      "metadata": {
        "id": "Zl6pnzu_JEjd"
      }
    },
    {
      "cell_type": "markdown",
      "source": [
        "Convertir montos y aplicar IVA\n",
        "<BR>\n",
        "Objetivo: pasar montos en USD a ARS"
      ],
      "metadata": {
        "id": "ToPga-kzKQ0E"
      }
    },
    {
      "cell_type": "code",
      "source": [
        "ventas = [\n",
        "    {\"id\": 1, \"monto_usd\": 10.0},\n",
        "    {\"id\": 2, \"monto_usd\": 25.5},\n",
        "    {\"id\": 3, \"monto_usd\": 13.2},\n",
        "]\n",
        "tipo_cambio = 1350\n",
        "\n",
        "\n",
        "# 👉 Generar lista de montos finales en ARS (redondeados a 2 decimales)\n",
        "\n",
        "\n",
        "montos_finales_ars = [{\"id\": v[\"id\"], \"monto_ars\": v[\"monto_usd\"] * 1350}\n",
        "                        for v in ventas\n",
        "                      ]\n",
        "\n",
        "\n",
        "print(montos_finales_ars)  # Ej: [?, ?, ?]"
      ],
      "metadata": {
        "id": "KRigrrXrKXXJ",
        "colab": {
          "base_uri": "https://localhost:8080/"
        },
        "outputId": "3a459a41-3e23-4579-9344-aaa44ab8f83b"
      },
      "execution_count": 1,
      "outputs": [
        {
          "output_type": "stream",
          "name": "stdout",
          "text": [
            "[{'id': 1, 'monto_ars': 13500.0}, {'id': 2, 'monto_ars': 34425.0}, {'id': 3, 'monto_ars': 17820.0}]\n"
          ]
        }
      ]
    },
    {
      "cell_type": "markdown",
      "source": [
        "Ejercicio 4. List Comprehension"
      ],
      "metadata": {
        "id": "d6YKawUYJsBU"
      }
    },
    {
      "cell_type": "markdown",
      "source": [
        "Crear una lista con el IMC de cada paciente (redondeado a 1 decimal)."
      ],
      "metadata": {
        "id": "Zk2FAh0gNEbU"
      }
    },
    {
      "cell_type": "code",
      "source": [
        "# Tu código aquí\n",
        "pacientes = [\n",
        "    {\"nombre\": \"Ana\", \"peso_kg\": 62, \"altura_m\": 1.65},\n",
        "    {\"nombre\": \"Luis\", \"peso_kg\": 80, \"altura_m\": 1.78},\n",
        "    {\"nombre\": \"Mia\", \"peso_kg\": 54, \"altura_m\": 1.60},\n",
        "]\n",
        "\n",
        "# IMC = peso_kg / (altura_m ** 2)\n",
        "imc = [{\"nombre\": p[\"nombre\"], \"imc\": round(p[\"peso_kg\"] / (p[\"altura_m\"]**2), 1)} for p in pacientes ]\n",
        "\n",
        "print(imc);"
      ],
      "metadata": {
        "id": "cSq_E63kNGwh",
        "colab": {
          "base_uri": "https://localhost:8080/"
        },
        "outputId": "c5e1b546-6430-424a-cebd-16fb129c4f17"
      },
      "execution_count": 37,
      "outputs": [
        {
          "output_type": "stream",
          "name": "stdout",
          "text": [
            "[{'nombre': 'Ana', 'imc': 22.8}, {'nombre': 'Luis', 'imc': 25.2}, {'nombre': 'Mia', 'imc': 21.1}]\n"
          ]
        }
      ]
    },
    {
      "cell_type": "markdown",
      "source": [
        "Ejercicio 5. List Comprehension"
      ],
      "metadata": {
        "id": "kVXLCrb_NRDv"
      }
    },
    {
      "cell_type": "markdown",
      "source": [
        "Con condicional: filtrar y transformar temperaturas\n",
        "<BR>\n",
        "Objetivo: quedarte solo con temperaturas numéricas > 25°C y convertirlas a °F."
      ],
      "metadata": {
        "id": "ZVU-eXyHNT7v"
      }
    },
    {
      "cell_type": "code",
      "source": [
        "# Tu código aquí\n",
        "temperaturas = [23, 29, None, 31, 18, \"N/A\", 27]\n",
        "\n",
        "#  °F = °C * 9/5 + 32\n",
        "\n",
        "\n",
        "temps_f = [round(t * 9/5 + 32) for t in temperaturas if isinstance(t, (int, float)) and t > 25]\n",
        "\n",
        "print(temps_f)  # Ej: [84.2, 87.8, 80.6]"
      ],
      "metadata": {
        "id": "15ioRkjENYAJ",
        "colab": {
          "base_uri": "https://localhost:8080/"
        },
        "outputId": "33523188-a202-4627-e7d3-f3b2eead5495"
      },
      "execution_count": 7,
      "outputs": [
        {
          "output_type": "stream",
          "name": "stdout",
          "text": [
            "[84, 88, 81]\n"
          ]
        }
      ]
    },
    {
      "cell_type": "markdown",
      "source": [
        "# Ejercicio 6\n"
      ],
      "metadata": {
        "id": "RRj0-2IcNdsQ"
      }
    },
    {
      "cell_type": "markdown",
      "source": [
        "Con condicional: limpiar y convertir métricas\n",
        "<BR>\n",
        "Objetivo: de una lista de strings con números y “ruido” (N/A, 0, vacío),\n",
        "obtener solo enteros válidos > 0.\n",
        "<BR>\n",
        "*Hint* round, isinstance, o str.isdigit()"
      ],
      "metadata": {
        "id": "0B3_GK_QNiUZ"
      }
    },
    {
      "cell_type": "code",
      "source": [
        "clicks_str = [\"100\", \"N/A\", \"250\", \"0\", \"\", \"300\", \"—\", \"75\"]\n",
        "\n",
        "\n",
        "\n",
        "clicks_validos = []\n",
        "\n",
        "for s in clicks_str:\n",
        "  try:\n",
        "    n = int(s)\n",
        "    if n > 0:\n",
        "      clicks_validos.append(n)\n",
        "  except:\n",
        "    pass\n",
        "\n",
        "print(clicks_validos)  # Ej: [100, 250, 300, 75]"
      ],
      "metadata": {
        "id": "TeAIg3BHNoyl",
        "colab": {
          "base_uri": "https://localhost:8080/"
        },
        "outputId": "beda64b0-9f00-458a-bf31-cdb481949d7b"
      },
      "execution_count": 10,
      "outputs": [
        {
          "output_type": "stream",
          "name": "stdout",
          "text": [
            "[100, 250, 300, 75]\n"
          ]
        }
      ]
    }
  ]
}